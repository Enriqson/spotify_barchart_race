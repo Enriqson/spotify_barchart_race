{
 "cells": [
  {
   "cell_type": "code",
   "execution_count": null,
   "metadata": {},
   "outputs": [],
   "source": [
    "import spotipy\n",
    "import pandas as pd\n",
    "from dotenv import load_dotenv\n",
    "import requests\n",
    "from io import BytesIO\n",
    "# Environment variables\n",
    "load_dotenv()\n",
    "\n",
    "# Importing required libraries\n",
    "import pandas as pd\n",
    "import duckdb as ddb\n",
    "import matplotlib.pyplot as plt\n",
    "import matplotlib.animation as animation\n",
    "from IPython.display import HTML\n",
    "from matplotlib.offsetbox import OffsetImage, AnnotationBbox\n",
    "import matplotlib\n",
    "plt.rcParams['animation.embed_limit'] = 2**130"
   ]
  },
  {
   "cell_type": "code",
   "execution_count": null,
   "metadata": {},
   "outputs": [],
   "source": [
    "#OAUTH\n",
    "from spotipy.oauth2 import SpotifyOAuth\n",
    "\n",
    "scope = \"user-library-read\"\n",
    "\n",
    "sp = spotipy.Spotify(auth_manager=SpotifyOAuth(scope=scope))"
   ]
  },
  {
   "cell_type": "code",
   "execution_count": null,
   "metadata": {},
   "outputs": [],
   "source": [
    "%%script false\n",
    "#CLIENT CREDENTIALS\n",
    "from spotipy.oauth2 import SpotifyClientCredentials\n",
    "\n",
    "auth_manager = SpotifyClientCredentials()\n",
    "sp = spotipy.Spotify(auth_manager=auth_manager)"
   ]
  },
  {
   "cell_type": "code",
   "execution_count": null,
   "metadata": {},
   "outputs": [],
   "source": [
    "PLAYLIST_ID = '07KajudA1Z0xAmqwOKzvTk'"
   ]
  },
  {
   "cell_type": "code",
   "execution_count": null,
   "metadata": {},
   "outputs": [],
   "source": [
    "#get tracks by playlist_id\n",
    "tracks_by_playlist = []\n",
    "playlist = sp.playlist_items(PLAYLIST_ID)\n",
    "while playlist:\n",
    "    tracks_by_playlist+=playlist[\"items\"]\n",
    "    \n",
    "    if playlist['next']:\n",
    "        playlist = sp.next(playlist)\n",
    "    else:\n",
    "        playlist = None"
   ]
  },
  {
   "cell_type": "code",
   "execution_count": null,
   "metadata": {},
   "outputs": [],
   "source": [
    "parsed_tracks = []\n",
    "\n",
    "for track in tracks_by_playlist:\n",
    "    track_data = track[\"track\"]\n",
    "    \n",
    "    parsed_track_data = {\"added_at\":track[\"added_at\"][:10],\n",
    "                         \"title\":track_data[\"name\"], \n",
    "                         \"artist_id\":track_data[\"artists\"][0][\"id\"], \n",
    "                         \"artist_name\":track_data[\"artists\"][0][\"name\"],\n",
    "                         \"track_id\":track_data[\"id\"]\n",
    "                         }\n",
    "    \n",
    "    parsed_tracks.append(parsed_track_data)"
   ]
  },
  {
   "cell_type": "code",
   "execution_count": null,
   "metadata": {},
   "outputs": [],
   "source": [
    "tracks_df = pd.DataFrame(parsed_tracks)\n",
    "tracks_df"
   ]
  },
  {
   "cell_type": "code",
   "execution_count": null,
   "metadata": {},
   "outputs": [],
   "source": [
    "#get profile image url for each artist\n",
    "def chunks(lst, n):\n",
    "    \"\"\"Yield successive n-sized chunks from lst.\"\"\"\n",
    "    for i in range(0, len(lst), n):\n",
    "        yield lst[i:i + n]\n",
    "        \n",
    "playlist_artist_ids = tracks_df[\"artist_id\"].unique()\n",
    "artist_images_urls = []\n",
    "for artist_ids_chunk in chunks(playlist_artist_ids, 50):\n",
    "    res = sp.artists(artist_ids_chunk)[\"artists\"]\n",
    "\n",
    "    artist_images_urls+=[{\"artist_image_url\":i[\"images\"][-1][\"url\"], \"artist_id\":i[\"id\"]} for i in res]\n",
    "\n",
    "artist_images_df = pd.DataFrame(artist_images_urls)"
   ]
  },
  {
   "cell_type": "code",
   "execution_count": null,
   "metadata": {},
   "outputs": [],
   "source": [
    "#preload artist images and cache them in a dict\n",
    "loaded_images = {}\n",
    "for image_url in artist_images_df[\"artist_image_url\"]:\n",
    "    response = requests.get(image_url)\n",
    "    img = plt.imread(BytesIO(response.content),format='jpeg')\n",
    "    loaded_images[image_url] = img\n",
    "    "
   ]
  },
  {
   "cell_type": "code",
   "execution_count": null,
   "metadata": {},
   "outputs": [],
   "source": [
    "# calculate tracks by artist per date\n",
    "# groups track_count by date, crossjoins all artists with all dates then uses cumsum to get track count up to each date\n",
    "# joins with artist image url for picture lookup\n",
    "grouped_track_data = ddb.sql(\"\"\"\n",
    "        WITH distinct_dates AS (\n",
    "            SELECT DISTINCT added_at as date\n",
    "            FROM tracks_df\n",
    "        ),\n",
    "        grouped_data AS (\n",
    "            SELECT artist_id, \n",
    "            artist_name, \n",
    "            added_at AS date, \n",
    "            count(distinct(track_id)) as count_tracks\n",
    "            FROM tracks_df\n",
    "            GROUP BY artist_id, artist_name, added_at\n",
    "        ),\n",
    "        grouped_data_all_dates AS (\n",
    "            SELECT DISTINCT gd.artist_id, \n",
    "            gd.artist_name, \n",
    "            dd.date, \n",
    "            (CASE WHEN gd.date=dd.date THEN gd.count_tracks ELSE NULL END) as count_tracks\n",
    "            FROM grouped_data gd\n",
    "            CROSS JOIN distinct_dates dd\n",
    "        ),\n",
    "        grouped_data_cumsum AS (\n",
    "            SELECT artist_id, artist_name, date,\n",
    "            SUM(count_tracks) OVER (PARTITION BY artist_id, artist_name ORDER BY date) as track_count\n",
    "            FROM grouped_data_all_dates\n",
    "        )\n",
    "        SELECT DISTINCT gdc.*,  aid.artist_image_url\n",
    "        FROM grouped_data_cumsum as gdc \n",
    "        LEFT JOIN artist_images_df aid ON aid.artist_id=gdc.artist_id\n",
    "        WHERE gdc.track_count IS NOT NULL ORDER BY gdc.date, gdc.track_count asc\n",
    "        \"\"\").df()\n",
    "grouped_track_data = grouped_track_data.set_index(\"date\")"
   ]
  },
  {
   "cell_type": "code",
   "execution_count": null,
   "metadata": {},
   "outputs": [],
   "source": [
    "def get_top_artists_by_date(date, n):\n",
    "    #df_count = df_count.sort_values(by=\"count\", ascending=True)[-n:]\n",
    "    return  grouped_track_data[grouped_track_data.index==date][-n:]\n"
   ]
  },
  {
   "cell_type": "code",
   "execution_count": null,
   "metadata": {},
   "outputs": [],
   "source": [
    "fig, ax = plt.subplots(figsize=(15, 8))\n",
    "height = 0.8\n",
    "def draw_barchart(date, n):\n",
    "    df_count = get_top_artists_by_date(date, n)\n",
    "    ax.clear()\n",
    "    recs = ax.barh(df_count['artist_name'], df_count['track_count'], height=height)\n",
    "    \n",
    "    \n",
    "    for i, (value, image_url) in enumerate(zip(df_count['track_count'], df_count['artist_image_url'])):\n",
    "        #ax.text(value+0.4, i,     value,           ha='left')   # 38194.2: value\n",
    "        bar_height = 15\n",
    "        if n==10:\n",
    "            bar_height = 32\n",
    "        img = loaded_images[image_url]\n",
    "        im = OffsetImage(img, zoom=bar_height/len(img))\n",
    "        im.image.axes = ax\n",
    "        ab = AnnotationBbox(im, (value, i), xybox=(-bar_height/2.0, 0), frameon=False,\n",
    "                            xycoords='data', boxcoords=\"offset points\", pad=0)\n",
    "        ax.add_artist(ab)\n",
    "    # Add year right middle portion of canvas\n",
    "    ax.text(1, 0.4, date, transform=ax.transAxes, size=46, ha='right')\n",
    "    \n",
    "    #plt.xlim(0, max(df_count['count']) * 1.05)\n",
    "    #plt.ylim(-0.5, len(df_count['artist_name']) - 0.5)\n",
    "    plt.show()\n",
    "    return recs.patches\n",
    "    \n",
    "\n",
    "#test drawing\n",
    "a = draw_barchart(tracks_df[\"added_at\"].max(), 10)"
   ]
  },
  {
   "cell_type": "code",
   "execution_count": null,
   "metadata": {},
   "outputs": [],
   "source": [
    "dates = tracks_df[\"added_at\"].unique()\n",
    "dates.sort()"
   ]
  },
  {
   "cell_type": "code",
   "execution_count": null,
   "metadata": {},
   "outputs": [],
   "source": [
    "fig, ax = plt.subplots(figsize=(15, 8))\n",
    "animator = animation.FuncAnimation(fig, draw_barchart, frames=dates, fargs=(10,), blit=True)\n",
    "HTML(animator.to_jshtml()) "
   ]
  }
 ],
 "metadata": {
  "kernelspec": {
   "display_name": "py310",
   "language": "python",
   "name": "python3"
  },
  "language_info": {
   "codemirror_mode": {
    "name": "ipython",
    "version": 3
   },
   "file_extension": ".py",
   "mimetype": "text/x-python",
   "name": "python",
   "nbconvert_exporter": "python",
   "pygments_lexer": "ipython3",
   "version": "3.10.8"
  }
 },
 "nbformat": 4,
 "nbformat_minor": 2
}
